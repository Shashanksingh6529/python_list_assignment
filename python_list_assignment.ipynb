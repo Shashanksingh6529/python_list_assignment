{
 "cells": [
  {
   "cell_type": "markdown",
   "id": "55f18a2a-b17c-4c61-8e20-54edd8200084",
   "metadata": {},
   "source": [
    "Q1. Create an empty list."
   ]
  },
  {
   "cell_type": "code",
   "execution_count": 1,
   "id": "1a890e39-00d2-45e5-a8d1-3a4b0c058bb7",
   "metadata": {},
   "outputs": [],
   "source": [
    "empty_list = []"
   ]
  },
  {
   "cell_type": "markdown",
   "id": "d7e78f1a-c408-4858-b21f-a1f1f427556a",
   "metadata": {},
   "source": [
    "Q2. Create a list and add an element to the end of this list."
   ]
  },
  {
   "cell_type": "code",
   "execution_count": 2,
   "id": "092376cf-45df-4fcf-afcf-1d317ca0eb6b",
   "metadata": {},
   "outputs": [
    {
     "name": "stdout",
     "output_type": "stream",
     "text": [
      "[1, 2, 3, 4, 5]\n"
     ]
    }
   ],
   "source": [
    "my_list = [1, 2, 3, 4]  # Creating a list\n",
    "my_list.append(5)       # Adding an element (5) to the end of the list\n",
    "print(my_list)          # Printing the updated list"
   ]
  },
  {
   "cell_type": "markdown",
   "id": "247b91c0-eb60-452f-ace2-7489772a37cb",
   "metadata": {},
   "source": [
    "Q3. For the above created list print the last element."
   ]
  },
  {
   "cell_type": "code",
   "execution_count": 3,
   "id": "253c818c-548e-4c02-9172-e3d83574bef2",
   "metadata": {},
   "outputs": [
    {
     "name": "stdout",
     "output_type": "stream",
     "text": [
      "5\n"
     ]
    }
   ],
   "source": [
    "print(my_list[-1])"
   ]
  },
  {
   "cell_type": "markdown",
   "id": "b1badf8c-8ad2-47a1-a100-5845595960b0",
   "metadata": {},
   "source": [
    "Q4. Reverse the above created list."
   ]
  },
  {
   "cell_type": "code",
   "execution_count": 4,
   "id": "871685a6-144e-4e3e-8935-2ac232f82b88",
   "metadata": {},
   "outputs": [
    {
     "name": "stdout",
     "output_type": "stream",
     "text": [
      "[5, 4, 3, 2, 1]\n"
     ]
    }
   ],
   "source": [
    "my_list.reverse()\n",
    "print(my_list)"
   ]
  },
  {
   "cell_type": "markdown",
   "id": "eb5fc556-4b14-4057-80b4-43b50848f9a0",
   "metadata": {},
   "source": [
    "Q5. Sort the above created list."
   ]
  },
  {
   "cell_type": "code",
   "execution_count": 5,
   "id": "57661df2-4a0d-42cd-8733-3e7b538e36b1",
   "metadata": {},
   "outputs": [
    {
     "name": "stdout",
     "output_type": "stream",
     "text": [
      "[1, 2, 3, 4, 5]\n"
     ]
    }
   ],
   "source": [
    "my_list.sort()\n",
    "print(my_list)"
   ]
  },
  {
   "cell_type": "markdown",
   "id": "c66ce788-15d0-430d-8814-8b5c278b0bfb",
   "metadata": {},
   "source": [
    "Q6. Create a list of your top three favorite movies, then print the second movie title."
   ]
  },
  {
   "cell_type": "code",
   "execution_count": 6,
   "id": "21aa6a97-3cb2-44ca-97b2-76b69ea0d516",
   "metadata": {},
   "outputs": [
    {
     "name": "stdout",
     "output_type": "stream",
     "text": [
      "The Shawshank Redemption\n"
     ]
    }
   ],
   "source": [
    "favorite_movies = [\"Inception\", \"The Shawshank Redemption\", \"Interstellar\"]\n",
    "print(favorite_movies[1])"
   ]
  },
  {
   "cell_type": "markdown",
   "id": "81f164f7-94f1-4111-89ce-e6d2dac5e047",
   "metadata": {},
   "source": [
    "Q7. Create a list of your favorite animals, then add a new animal to the list and print the updated list."
   ]
  },
  {
   "cell_type": "code",
   "execution_count": 7,
   "id": "faa81013-7146-4957-a744-fb08b7e2ff41",
   "metadata": {},
   "outputs": [
    {
     "name": "stdout",
     "output_type": "stream",
     "text": [
      "['Dog', 'Cat', 'Elephant', 'Lion']\n"
     ]
    }
   ],
   "source": [
    "favorite_animals = [\"Dog\", \"Cat\", \"Elephant\"]\n",
    "favorite_animals.append(\"Lion\")  # Adding a new animal (\"Lion\") to the list\n",
    "print(favorite_animals)"
   ]
  },
  {
   "cell_type": "markdown",
   "id": "ea151078-4343-4ab6-8756-c0142a1194da",
   "metadata": {},
   "source": [
    "Q8. Create a list of your favorite cities, then use the index() method to find the position of a specific city\n",
    "on the list and print it."
   ]
  },
  {
   "cell_type": "code",
   "execution_count": 8,
   "id": "ed065e40-abb0-48c3-814c-a9db26b71981",
   "metadata": {},
   "outputs": [
    {
     "name": "stdout",
     "output_type": "stream",
     "text": [
      "The position of Tokyo in the list is: 2\n"
     ]
    }
   ],
   "source": [
    "favorite_cities = [\"Paris\", \"New York\", \"Tokyo\", \"London\", \"Sydney\"]\n",
    "city_to_find = \"Tokyo\"\n",
    "position = favorite_cities.index(city_to_find)\n",
    "print(\"The position of\", city_to_find, \"in the list is:\", position)"
   ]
  },
  {
   "cell_type": "code",
   "execution_count": null,
   "id": "ad7a6911-fafc-47bd-b884-caedc02ae181",
   "metadata": {},
   "outputs": [],
   "source": []
  }
 ],
 "metadata": {
  "kernelspec": {
   "display_name": "Python 3 (ipykernel)",
   "language": "python",
   "name": "python3"
  },
  "language_info": {
   "codemirror_mode": {
    "name": "ipython",
    "version": 3
   },
   "file_extension": ".py",
   "mimetype": "text/x-python",
   "name": "python",
   "nbconvert_exporter": "python",
   "pygments_lexer": "ipython3",
   "version": "3.10.8"
  }
 },
 "nbformat": 4,
 "nbformat_minor": 5
}
